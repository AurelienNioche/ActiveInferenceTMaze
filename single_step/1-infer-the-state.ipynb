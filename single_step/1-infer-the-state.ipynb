{
 "cells": [
  {
   "cell_type": "code",
   "execution_count": 2,
   "id": "initial_id",
   "metadata": {
    "collapsed": true,
    "ExecuteTime": {
     "end_time": "2023-09-21T11:27:40.382719Z",
     "start_time": "2023-09-21T11:27:39.055164Z"
    }
   },
   "outputs": [],
   "source": [
    "import numpy as np\n",
    "from pymdp.envs import TMazeEnv"
   ]
  },
  {
   "cell_type": "code",
   "execution_count": 3,
   "outputs": [],
   "source": [
    "%load_ext autoreload\n",
    "%autoreload 2"
   ],
   "metadata": {
    "collapsed": false,
    "ExecuteTime": {
     "end_time": "2023-09-21T11:27:40.399693Z",
     "start_time": "2023-09-21T11:27:40.384681Z"
    }
   },
   "id": "3565b7eb36b2ffd8"
  },
  {
   "cell_type": "markdown",
   "source": [
    "*actions*: 0: CENTER, 1: RIGHT ARM, 2: LEFT ARM, 3: CUE LOCATION (bottom)\n",
    "\n",
    "*observations*: 0: LOCATION, 1: REWARD, 2: CUE\n",
    "\n",
    "*states*: 0: LOCATION, 1: CONTEXT"
   ],
   "metadata": {
    "collapsed": false
   },
   "id": "22c473c9f48c8bf4"
  },
  {
   "cell_type": "code",
   "execution_count": 4,
   "outputs": [],
   "source": [
    "env = TMazeEnv(reward_probs=[0.98, 0.02])\n",
    "A = env.get_likelihood_dist()\n",
    "B = env.get_transition_dist()"
   ],
   "metadata": {
    "collapsed": false,
    "ExecuteTime": {
     "end_time": "2023-09-21T11:27:40.414527Z",
     "start_time": "2023-09-21T11:27:40.400278Z"
    }
   },
   "id": "4c73ec1f10952b64"
  },
  {
   "cell_type": "code",
   "execution_count": 5,
   "outputs": [],
   "source": [
    "# Beliefs over the states: p(location), p(context)\n",
    "D = [np.array([1,0,0,0]),     # Knows it is in the center\n",
    "     np.array([0.5, 0.5])]    # but doesn't know the context ('reward condition')\n",
    "# Preferences over the observations: \\tilde p(Location), \\tilde p(reward), \\tilde(context)\n",
    "C = [np.array([0., 0., 0., 0.]), # Location: Doesn't matter where it is\n",
    "     np.array([ 0., 3., -3.]),   # Reward: Prefers to see reward than no reward, or punishment\n",
    "     np.array([0., 0.])]         # Cue: Doesn't matter the cue (right, left)"
   ],
   "metadata": {
    "collapsed": false,
    "ExecuteTime": {
     "end_time": "2023-09-21T11:27:40.441433Z",
     "start_time": "2023-09-21T11:27:40.415497Z"
    }
   },
   "id": "65633756507022d6"
  },
  {
   "cell_type": "code",
   "execution_count": 6,
   "outputs": [
    {
     "data": {
      "text/plain": "[0, 0, 1]"
     },
     "execution_count": 6,
     "metadata": {},
     "output_type": "execute_result"
    }
   ],
   "source": [
    "obs = env.reset() # reset the environment and get an initial observation\n",
    "obs # Location, reward, cue"
   ],
   "metadata": {
    "collapsed": false,
    "ExecuteTime": {
     "end_time": "2023-09-21T11:27:40.446014Z",
     "start_time": "2023-09-21T11:27:40.430086Z"
    }
   },
   "id": "81cb6e76f93e74ac"
  },
  {
   "cell_type": "code",
   "execution_count": 7,
   "outputs": [],
   "source": [
    "def softmax(dist):\n",
    "    \"\"\" \n",
    "    Computes the softmax function on a set of values\n",
    "    \"\"\"\n",
    "\n",
    "    output = dist - dist.max(axis=0)\n",
    "    output = np.exp(output)\n",
    "    output = output / np.sum(output, axis=0)\n",
    "    return output"
   ],
   "metadata": {
    "collapsed": false,
    "ExecuteTime": {
     "end_time": "2023-09-21T11:27:40.570731Z",
     "start_time": "2023-09-21T11:27:40.557144Z"
    }
   },
   "id": "adfe4a720e4ca08a"
  },
  {
   "cell_type": "code",
   "execution_count": 8,
   "outputs": [],
   "source": [
    "# PYMDP nomenclature:\n",
    "# n_factor: number of dimension of a state\n",
    "# n_modality: number of dimension of an observation"
   ],
   "metadata": {
    "collapsed": false,
    "ExecuteTime": {
     "end_time": "2023-09-21T11:27:40.751466Z",
     "start_time": "2023-09-21T11:27:40.735844Z"
    }
   },
   "id": "c66151f70de7d6e9"
  },
  {
   "cell_type": "code",
   "execution_count": 9,
   "outputs": [
    {
     "name": "stdout",
     "output_type": "stream",
     "text": [
      "free energy:  0.6931471805599451\n"
     ]
    }
   ],
   "source": [
    "EPS = 1e-16\n",
    "\n",
    "# s_location_idx = 0\n",
    "# s_context_idx = 1\n",
    "# qs_context = D[s_context_idx] # Equals D for the first iteration\n",
    "n_dim_state = len(B)  # Location, context\n",
    "\n",
    "# Observe that they are in the center, that there is no reward, and that the cue is on the right\n",
    "obs = [np.array([1., 0., 0., 0.]), np.array([1., 0., 0.]), np.array([1., 0.])]\n",
    "\n",
    "dim_state = A[0].shape[1:]\n",
    "# Note that A[1].shape[1:] == A[2].shape[1:] == A[3].shape[1:] == dim_state\n",
    "# In this example, dim_state = (4, 2) \n",
    "# because state is defined by two factors, location and context, and there is 4 locations and 2 contexts\n",
    "n_uniq_state = np.prod(dim_state)\n",
    "# Note that np.prod(A[0].shape[1:]) == np.prod(A[i].shape[1:]) for all possible i\n",
    "likelihood = np.ones(n_uniq_state)\n",
    "for i in range(len(A)): \n",
    "    likelihood *= A[i].reshape(A[i].shape[0], n_uniq_state).T.dot(obs[i])\n",
    "\n",
    "likelihood = likelihood.reshape(*dim_state)\n",
    "log_likelihood = np.log(likelihood+EPS)\n",
    "\n",
    "# ------------------------------\n",
    "\n",
    "curr_iter = 0\n",
    "num_iter = 10\n",
    "dF = 1\n",
    "dF_tol = 0.001\n",
    "\n",
    "\n",
    "old_qs = D  # Init posterior, after first iteration, this will be the posterior from the previous timestep\n",
    "\n",
    "prior = []\n",
    "qs = []  # Init posterior\n",
    "\n",
    "for i in range(n_dim_state):\n",
    "    prior_i = np.log(old_qs[i] + EPS)\n",
    "    prior.append(prior_i)\n",
    "    qs.append(np.ones(len(prior_i)) / len(prior_i))\n",
    "    \n",
    "old_vfe = np.inf  # Init free energy, after first iteration, this will be the free energy from the previous iteration\n",
    "\n",
    "free_energy = None \n",
    "    \n",
    "while curr_iter < num_iter+1 and dF >= dF_tol:\n",
    "    \n",
    "    free_energy = 0\n",
    "    \n",
    "    # Following PYMDP, what follows is not done at the first computation of the VFE (called pre-vfe)\n",
    "    # Note that in PYMDP, the code is structured diferrently and this first computation is done BEFORE the main loop \n",
    "    # Here, to avoid copy-pasting the code, we refactored such that this is done at the iteration 0, and we continue \n",
    "    # one iteration more (hence, the '+1' in 'curr_iter < num_iter+1') \n",
    "    if curr_iter > 0:\n",
    "        # ================================================================\n",
    "        # Estimate the posterior Q(s) for the current iteration by fixed-point iteration\n",
    "        # --------------------------------------------------------------\n",
    "        # Here, there is a departure to what is expressed in the book in Eq B5 (p 245 in the book)\n",
    "        # We still are looking for an estimation of `v` such that `Q(s) = sigma(v)`\n",
    "        # but to get this estimate, following PYMDP, we actually follow  closely the equation A.42 (p 237) (instead of Eq 5)\n",
    "        # v_i = E_Q(s_j != i) ln p(o, s) = E_Q(s) ln p(o | s) + ln p(s) \n",
    "        # Concretely, we will compute:\n",
    "        # v_i = \\sum_j (q(s_i) q(s_j) ln p(o | s_i, s_j) ) / q(s_i) + ln p(s_i)\n",
    "        # Step #1: We first create a joint likelihood with our current best guess (the estimation of the posterior)\n",
    "        # => q(s_i) q(s_j)  * ln p(o | s_i, s_j)\n",
    "        joint_ll = np.outer(*qs)*log_likelihood\n",
    "        for i in range(n_dim_state):\n",
    "            # Step #2: Compute the expectation of the likelihood over all the dimensions of the state (\"factors\") \n",
    "            # except the one under \n",
    "            # consideration (dimension `i`)\n",
    "            # => \\sum_j (q(s_i) q(s_j) ln p(o | s_i, s_j) ) / q(s_i)\n",
    "            ll_i = np.einsum(joint_ll, np.arange(n_dim_state), [i]) / qs[i]\n",
    "            # Then add the prior\n",
    "            v = ll_i + prior[i]\n",
    "            # Similar to B.5, softmax it to make sure that it sums to 1\n",
    "            qs[i] = softmax(v)\n",
    "            \n",
    "        # ================================================================\n",
    "        # Following Equation B4\n",
    "        # F = s . (ln(A) . o ln(s)) + s . ln(s) - s . ln(D)\n",
    "        # Note: the second part of Eq B4 (the summation over the remaining time steps) is ignored as this will be applied recursively \n",
    "        # Computing part #1 of VFE\n",
    "        # => s . (ln(A) . o) \n",
    "        # equiv. to E_Q(s) P(o | s) in Eq B2\n",
    "        # ---------------------------------------------------------------\n",
    "        # meaning that \n",
    "        accuracy = np.sum(np.outer(*qs) * log_likelihood)\n",
    "        free_energy -= accuracy\n",
    "\n",
    "    # ------------------------------------------------------------------\n",
    "\n",
    "    for i in range(n_dim_state):\n",
    "        \n",
    "        # Equation B.4 (simplified as we only look one step ahead, and distributing s_\\pi) \n",
    "        # (implementation of B2)\n",
    "        # Computing part #2 of VFE\n",
    "        # => s . ln(s)\n",
    "        # equiv. to E_Q(s) (ln Q(s)) in equation B.2\n",
    "        # that is the negative entropy of the posterior marginal H(Q(s))\n",
    "        negH_qs = qs[i].dot(np.log(qs[i] + 1e-16))\n",
    "        \n",
    "        # Computing part #3 of VFE\n",
    "        # => - s . ln(D) or if t > 0: s . ln(s_{t-1})\n",
    "        # that is the cross entropy of posterior marginal with prior marginal H(Q(s), P(s)) = - E_Q P(s)\n",
    "        xH_qp = -qs[i].dot(prior[i])\n",
    "        \n",
    "        free_energy += negH_qs + xH_qp\n",
    "    \n",
    "    dF = np.abs(free_energy - old_vfe)\n",
    "    old_vfe = free_energy\n",
    "    curr_iter += 1\n",
    "\n",
    "print(\"free energy: \", free_energy)"
   ],
   "metadata": {
    "collapsed": false,
    "ExecuteTime": {
     "end_time": "2023-09-21T11:27:40.988971Z",
     "start_time": "2023-09-21T11:27:40.971821Z"
    }
   },
   "id": "2d119b6e6ef754c9"
  },
  {
   "cell_type": "code",
   "execution_count": 10,
   "outputs": [
    {
     "data": {
      "text/plain": "2"
     },
     "execution_count": 10,
     "metadata": {},
     "output_type": "execute_result"
    }
   ],
   "source": [
    "n_dim_state"
   ],
   "metadata": {
    "collapsed": false,
    "ExecuteTime": {
     "end_time": "2023-09-21T11:27:41.291631Z",
     "start_time": "2023-09-21T11:27:41.272258Z"
    }
   },
   "id": "74b568559ce30e9d"
  },
  {
   "cell_type": "code",
   "execution_count": 11,
   "outputs": [
    {
     "data": {
      "text/plain": "(4, 2)"
     },
     "execution_count": 11,
     "metadata": {},
     "output_type": "execute_result"
    }
   ],
   "source": [
    "dim_state"
   ],
   "metadata": {
    "collapsed": false,
    "ExecuteTime": {
     "end_time": "2023-09-21T11:27:41.566969Z",
     "start_time": "2023-09-21T11:27:41.544211Z"
    }
   },
   "id": "1bc053467a2de5a7"
  },
  {
   "cell_type": "code",
   "execution_count": 12,
   "outputs": [
    {
     "data": {
      "text/plain": "(4, 4, 2)"
     },
     "execution_count": 12,
     "metadata": {},
     "output_type": "execute_result"
    }
   ],
   "source": [
    "A[0].shape"
   ],
   "metadata": {
    "collapsed": false,
    "ExecuteTime": {
     "end_time": "2023-09-21T11:27:41.835255Z",
     "start_time": "2023-09-21T11:27:41.815564Z"
    }
   },
   "id": "6db1b42fc74b81ff"
  },
  {
   "cell_type": "code",
   "execution_count": 18,
   "outputs": [
    {
     "name": "stdout",
     "output_type": "stream",
     "text": [
      "2\n",
      "(4, 2)\n"
     ]
    },
    {
     "data": {
      "text/plain": "array([ 1,  5,  9, 13])"
     },
     "execution_count": 18,
     "metadata": {},
     "output_type": "execute_result"
    }
   ],
   "source": [
    "fake_ll_tensor = np.arange(8).reshape(dim_state)  # dim_state = (4,2) because 4 possible locations, 2 possible contexts\n",
    "np.einsum(fake_ll_tensor, np.arange(n_dim_state), [0])"
   ],
   "metadata": {
    "collapsed": false,
    "ExecuteTime": {
     "end_time": "2023-09-21T11:34:21.564953Z",
     "start_time": "2023-09-21T11:34:21.548477Z"
    }
   },
   "id": "922c12d75d1a0acb"
  },
  {
   "cell_type": "code",
   "execution_count": 24,
   "outputs": [
    {
     "data": {
      "text/plain": "array([[0, 1],\n       [2, 3],\n       [4, 5],\n       [6, 7]])"
     },
     "execution_count": 24,
     "metadata": {},
     "output_type": "execute_result"
    }
   ],
   "source": [
    "np.einsum('ij-> i', fake_ll_tensor)"
   ],
   "metadata": {
    "collapsed": false,
    "ExecuteTime": {
     "end_time": "2023-09-21T11:49:28.858651Z",
     "start_time": "2023-09-21T11:49:28.842011Z"
    }
   },
   "id": "8750633a731bd07"
  },
  {
   "cell_type": "code",
   "execution_count": 25,
   "outputs": [
    {
     "name": "stdout",
     "output_type": "stream",
     "text": [
      "[array([ 1,  5,  9, 13]), array([12, 16])]\n"
     ]
    }
   ],
   "source": [
    "fake_ll_tensor = np.arange(8).reshape((4, 2))\n",
    "results = []\n",
    "for char in ('i', 'j'):\n",
    "     results.append(np.einsum(f'ij-> {char}', fake_ll_tensor))\n",
    "print(results)"
   ],
   "metadata": {
    "collapsed": false,
    "ExecuteTime": {
     "end_time": "2023-09-21T11:58:54.214317Z",
     "start_time": "2023-09-21T11:58:54.200202Z"
    }
   },
   "id": "ae31b7211d12ec74"
  },
  {
   "cell_type": "code",
   "execution_count": 26,
   "outputs": [
    {
     "name": "stdout",
     "output_type": "stream",
     "text": [
      "[[0 1]\n",
      " [2 3]\n",
      " [4 5]\n",
      " [6 7]]\n"
     ]
    }
   ],
   "source": [
    "fake_ll_tensor = np.arange(8).reshape((4, 2))\n",
    "print(np.einsum(f'ij-> ij', fake_ll_tensor))"
   ],
   "metadata": {
    "collapsed": false,
    "ExecuteTime": {
     "end_time": "2023-09-21T12:00:04.679867Z",
     "start_time": "2023-09-21T12:00:04.665082Z"
    }
   },
   "id": "7ada993a725c2d29"
  },
  {
   "cell_type": "code",
   "execution_count": null,
   "outputs": [],
   "source": [],
   "metadata": {
    "collapsed": false
   },
   "id": "35788ed24acd39b9"
  }
 ],
 "metadata": {
  "kernelspec": {
   "display_name": "Python 3",
   "language": "python",
   "name": "python3"
  },
  "language_info": {
   "codemirror_mode": {
    "name": "ipython",
    "version": 2
   },
   "file_extension": ".py",
   "mimetype": "text/x-python",
   "name": "python",
   "nbconvert_exporter": "python",
   "pygments_lexer": "ipython2",
   "version": "2.7.6"
  }
 },
 "nbformat": 4,
 "nbformat_minor": 5
}
