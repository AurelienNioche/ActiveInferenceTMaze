{
 "cells": [
  {
   "cell_type": "code",
   "execution_count": 16,
   "id": "initial_id",
   "metadata": {
    "collapsed": true,
    "ExecuteTime": {
     "end_time": "2023-09-20T13:30:39.819836Z",
     "start_time": "2023-09-20T13:30:39.797998Z"
    }
   },
   "outputs": [],
   "source": [
    "import numpy as np\n",
    "from pymdp.envs import TMazeEnv"
   ]
  },
  {
   "cell_type": "code",
   "execution_count": 17,
   "outputs": [
    {
     "name": "stdout",
     "output_type": "stream",
     "text": [
      "The autoreload extension is already loaded. To reload it, use:\n",
      "  %reload_ext autoreload\n"
     ]
    }
   ],
   "source": [
    "%load_ext autoreload\n",
    "%autoreload 2"
   ],
   "metadata": {
    "collapsed": false,
    "ExecuteTime": {
     "end_time": "2023-09-20T13:30:40.023123Z",
     "start_time": "2023-09-20T13:30:39.997508Z"
    }
   },
   "id": "3565b7eb36b2ffd8"
  },
  {
   "cell_type": "markdown",
   "source": [
    "*actions*: 0: CENTER, 1: RIGHT ARM, 2: LEFT ARM, 3: CUE LOCATION (bottom)\n",
    "\n",
    "*observations*: 0: LOCATION, 1: REWARD, 2: CUE\n",
    "\n",
    "*states*: 0: LOCATION, 1: CONTEXT"
   ],
   "metadata": {
    "collapsed": false
   },
   "id": "22c473c9f48c8bf4"
  },
  {
   "cell_type": "code",
   "execution_count": 18,
   "outputs": [],
   "source": [
    "env = TMazeEnv(reward_probs=[0.98, 0.02])\n",
    "A = env.get_likelihood_dist()\n",
    "B = env.get_transition_dist()"
   ],
   "metadata": {
    "collapsed": false,
    "ExecuteTime": {
     "end_time": "2023-09-20T13:30:40.323945Z",
     "start_time": "2023-09-20T13:30:40.307556Z"
    }
   },
   "id": "4c73ec1f10952b64"
  },
  {
   "cell_type": "code",
   "execution_count": 19,
   "outputs": [],
   "source": [
    "# Beliefs over the states: p(location), p(context)\n",
    "D = [np.array([1,0,0,0]),     # Knows it is in the center\n",
    "     np.array([0.5, 0.5])]    # but doesn't know the context ('reward condition')\n",
    "# Preferences over the observations: \\tilde p(Location), \\tilde p(reward), \\tilde(context)\n",
    "C = [np.array([0., 0., 0., 0.]), # Location: Doesn't matter where it is\n",
    "     np.array([ 0., 3., -3.]),   # Reward: Prefers to see reward than no reward, or punishment\n",
    "     np.array([0., 0.])]         # Cue: Doesn't matter the cue (right, left)"
   ],
   "metadata": {
    "collapsed": false,
    "ExecuteTime": {
     "end_time": "2023-09-20T13:30:40.594155Z",
     "start_time": "2023-09-20T13:30:40.574090Z"
    }
   },
   "id": "65633756507022d6"
  },
  {
   "cell_type": "code",
   "execution_count": 20,
   "outputs": [
    {
     "data": {
      "text/plain": "[0, 0, 0]"
     },
     "execution_count": 20,
     "metadata": {},
     "output_type": "execute_result"
    }
   ],
   "source": [
    "obs = env.reset() # reset the environment and get an initial observation\n",
    "obs # Location, reward, cue"
   ],
   "metadata": {
    "collapsed": false,
    "ExecuteTime": {
     "end_time": "2023-09-20T13:30:40.795136Z",
     "start_time": "2023-09-20T13:30:40.775095Z"
    }
   },
   "id": "81cb6e76f93e74ac"
  },
  {
   "cell_type": "code",
   "execution_count": 21,
   "outputs": [],
   "source": [
    "def softmax(dist):\n",
    "    \"\"\" \n",
    "    Computes the softmax function on a set of values\n",
    "    \"\"\"\n",
    "\n",
    "    output = dist - dist.max(axis=0)\n",
    "    output = np.exp(output)\n",
    "    output = output / np.sum(output, axis=0)\n",
    "    return output"
   ],
   "metadata": {
    "collapsed": false,
    "ExecuteTime": {
     "end_time": "2023-09-20T13:30:40.966806Z",
     "start_time": "2023-09-20T13:30:40.949468Z"
    }
   },
   "id": "adfe4a720e4ca08a"
  },
  {
   "cell_type": "code",
   "execution_count": null,
   "outputs": [],
   "source": [
    "# PYMDP nomenclature:\n",
    "# n_factor: number of dimension of a state\n",
    "# n_modality: number of dimension of an observation"
   ],
   "metadata": {
    "collapsed": false
   },
   "id": "c66151f70de7d6e9"
  },
  {
   "cell_type": "code",
   "execution_count": 22,
   "outputs": [
    {
     "name": "stdout",
     "output_type": "stream",
     "text": [
      "free energy:  0.6931471805599451\n"
     ]
    }
   ],
   "source": [
    "EPS = 1e-16\n",
    "\n",
    "# s_location_idx = 0\n",
    "# s_context_idx = 1\n",
    "# qs_context = D[s_context_idx] # Equals D for the first iteration\n",
    "n_dim_state = len(B)  # Location, context\n",
    "\n",
    "# Observe that they are in the center, that there is no reward, and that the cue is on the right\n",
    "obs = [np.array([1., 0., 0., 0.]), np.array([1., 0., 0.]), np.array([1., 0.])]\n",
    "\n",
    "dim_state = A[0].shape[1:]\n",
    "# Note that A[1].shape[1:] == A[2].shape[1:] == A[3].shape[1:] == dim_state\n",
    "# In this example, dim_state = (4, 2) \n",
    "# because state is defined by two factors, location and context, and there is 4 locations and 2 contexts\n",
    "n_uniq_state = np.prod(dim_state)\n",
    "# Note that np.prod(A[0].shape[1:]) == np.prod(A[i].shape[1:]) for all possible i\n",
    "likelihood = np.ones(n_uniq_state)\n",
    "for i in range(len(A)): \n",
    "    likelihood *= A[i].reshape(A[i].shape[0], n_uniq_state).T.dot(obs[i])\n",
    "\n",
    "likelihood = likelihood.reshape(*dim_state)\n",
    "log_likelihood = np.log(likelihood+EPS)\n",
    "\n",
    "# ------------------------------\n",
    "\n",
    "curr_iter = 0\n",
    "num_iter = 10\n",
    "dF = 1\n",
    "dF_tol = 0.001\n",
    "\n",
    "\n",
    "old_qs = D  # Init posterior, after first iteration, this will be the posterior from the previous timestep\n",
    "\n",
    "prior = []\n",
    "qs = []  # Init posterior\n",
    "\n",
    "# This is only for the first timestep, otherwise we use the posterior from the previous timestep\n",
    "for i in range(n_dim_state):\n",
    "    prior_i = np.log(old_qs[i] + EPS)\n",
    "    prior.append(prior_i)\n",
    "    qs.append(np.ones(len(prior_i)) / len(prior_i))\n",
    "    \n",
    "old_vfe = np.inf  # Init free energy, after first iteration, this will be the free energy from the previous iteration\n",
    "    \n",
    "while curr_iter < num_iter and dF >= dF_tol:\n",
    "    \n",
    "    free_energy = 0\n",
    "    \n",
    "    # Estimate q(s) for the current iteration --------------------------------------------------------\n",
    "    if curr_iter > 0:\n",
    "        # Following equation B5 (p 245 in the book)\n",
    "        ll_tensor = np.outer(*qs)*log_likelihood\n",
    "        for i in range(n_dim_state):\n",
    "            # Sum over all the dimension of the state (\"factor\") except the one under consideration (dimension `i`)\n",
    "            ll_i = np.einsum(ll_tensor, np.arange(n_dim_state), [i])\n",
    "            # v ~ - F\n",
    "            # F is defined in equation B.4 (p 245 in the book)\n",
    "            v = ll_i / qs[i] + prior[i]\n",
    "            # Equation B.5 (first line)\n",
    "            qs[i] = softmax(v)\n",
    "    # -----------------------------------------------------------------------------------------------------\n",
    "\n",
    "    for i in range(n_dim_state):\n",
    "        \n",
    "        # Equation B.6 (last term)\n",
    "        # Neg-entropy of posterior marginal H(qs)\n",
    "        negH_qs = qs[i].dot(np.log(qs[i] + 1e-16))\n",
    "        \n",
    "        # Equation B.2 (second term, note that the third term is skipped because using a forward-only message passing \n",
    "        # technique: https://doi.org/10.1162/NECO_a_00912)\n",
    "        # Cross entropy of posterior marginal with prior marginal H(q[f],p[f])\n",
    "        xH_qp = -qs[i].dot(prior[i])\n",
    "        \n",
    "        free_energy += negH_qs + xH_qp\n",
    "        \n",
    "    if curr_iter > 0:\n",
    "        # Equation B.6 (first term)\n",
    "        accuracy = np.sum(np.outer(*qs) * log_likelihood)\n",
    "        free_energy -= accuracy\n",
    "    \n",
    "    dF = np.abs(free_energy - old_vfe)\n",
    "    old_vfe = free_energy\n",
    "    curr_iter += 1\n",
    "print(\"free energy: \", free_energy)"
   ],
   "metadata": {
    "collapsed": false,
    "ExecuteTime": {
     "end_time": "2023-09-20T13:30:41.250346Z",
     "start_time": "2023-09-20T13:30:41.230336Z"
    }
   },
   "id": "2d119b6e6ef754c9"
  },
  {
   "cell_type": "code",
   "execution_count": 23,
   "outputs": [
    {
     "data": {
      "text/plain": "2"
     },
     "execution_count": 23,
     "metadata": {},
     "output_type": "execute_result"
    }
   ],
   "source": [
    "n_dim_state"
   ],
   "metadata": {
    "collapsed": false,
    "ExecuteTime": {
     "end_time": "2023-09-20T13:30:41.734284Z",
     "start_time": "2023-09-20T13:30:41.716089Z"
    }
   },
   "id": "74b568559ce30e9d"
  },
  {
   "cell_type": "code",
   "execution_count": 24,
   "outputs": [
    {
     "data": {
      "text/plain": "(4, 2)"
     },
     "execution_count": 24,
     "metadata": {},
     "output_type": "execute_result"
    }
   ],
   "source": [
    "dim_state"
   ],
   "metadata": {
    "collapsed": false,
    "ExecuteTime": {
     "end_time": "2023-09-20T13:30:42.098004Z",
     "start_time": "2023-09-20T13:30:42.079774Z"
    }
   },
   "id": "1bc053467a2de5a7"
  },
  {
   "cell_type": "code",
   "execution_count": 25,
   "outputs": [
    {
     "data": {
      "text/plain": "(4, 4, 2)"
     },
     "execution_count": 25,
     "metadata": {},
     "output_type": "execute_result"
    }
   ],
   "source": [
    "A[0].shape"
   ],
   "metadata": {
    "collapsed": false,
    "ExecuteTime": {
     "end_time": "2023-09-20T13:30:42.638553Z",
     "start_time": "2023-09-20T13:30:42.624149Z"
    }
   },
   "id": "6db1b42fc74b81ff"
  },
  {
   "cell_type": "code",
   "execution_count": null,
   "outputs": [],
   "source": [],
   "metadata": {
    "collapsed": false
   },
   "id": "922c12d75d1a0acb"
  }
 ],
 "metadata": {
  "kernelspec": {
   "display_name": "Python 3",
   "language": "python",
   "name": "python3"
  },
  "language_info": {
   "codemirror_mode": {
    "name": "ipython",
    "version": 2
   },
   "file_extension": ".py",
   "mimetype": "text/x-python",
   "name": "python",
   "nbconvert_exporter": "python",
   "pygments_lexer": "ipython2",
   "version": "2.7.6"
  }
 },
 "nbformat": 4,
 "nbformat_minor": 5
}
